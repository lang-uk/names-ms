{
 "cells": [
  {
   "cell_type": "code",
   "execution_count": 2,
   "metadata": {
    "ExecuteTime": {
     "end_time": "2016-07-20T01:28:56.097933",
     "start_time": "2016-07-20T01:28:56.081655"
    },
    "collapsed": false
   },
   "outputs": [
    {
     "name": "stdout",
     "output_type": "stream",
     "text": [
      "The autoreload extension is already loaded. To reload it, use:\n",
      "  %reload_ext autoreload\n"
     ]
    }
   ],
   "source": [
    "%load_ext autoreload\n",
    "%autoreload 2\n",
    "import sys\n",
    "sys.path.append('../..')"
   ]
  },
  {
   "cell_type": "code",
   "execution_count": 5,
   "metadata": {
    "ExecuteTime": {
     "end_time": "2016-07-20T01:29:36.074131",
     "start_time": "2016-07-20T01:29:36.060183"
    },
    "collapsed": false
   },
   "outputs": [],
   "source": [
    "import sys\n",
    "import os\n",
    "sys.path.append(os.path.join(os.path.curdir, \"..\"))"
   ]
  },
  {
   "cell_type": "code",
   "execution_count": 15,
   "metadata": {
    "ExecuteTime": {
     "end_time": "2016-07-20T01:33:28.764706",
     "start_time": "2016-07-20T01:33:28.749971"
    },
    "collapsed": true
   },
   "outputs": [],
   "source": [
    "from settings import ELASTICSEARCH_CONNECTIONS\n",
    "from elasticsearch_dsl.connections import connections\n",
    "connections.configure(timeout=120, **ELASTICSEARCH_CONNECTIONS)"
   ]
  },
  {
   "cell_type": "code",
   "execution_count": 70,
   "metadata": {
    "ExecuteTime": {
     "end_time": "2016-07-20T03:33:26.115315",
     "start_time": "2016-07-20T03:33:26.094198"
    },
    "collapsed": false
   },
   "outputs": [],
   "source": [
    "from name_utils import parse_fullname\n",
    "\n",
    "# with open(\"../test_names.txt\", \"r\") as fp:\n",
    "#     names = list(fp)\n",
    "\n",
    "names = [\n",
    "    \"Блабласюк Дмитро Романович\",\n",
    "    \"РОМАНЮК Ярослав Михайлович\",\n",
    "    \"Валентин Петрович БАРБАРА\",\n",
    "]\n",
    "\n",
    "names = list(map(str.strip, names))\n",
    "names = list(map(parse_fullname, names))\n",
    "\n",
    "\n",
    "candidates = [\n",
    "    \"Дмитрий Романович Блабласюк\",\n",
    "    \"Сергій Насалик\",\n",
    "    \"BARBARA Valentyn Petrovych\",\n",
    "]\n",
    "\n",
    "candidates = list(map(str.strip, candidates))\n",
    "candidates = list(map(parse_fullname, candidates))"
   ]
  },
  {
   "cell_type": "code",
   "execution_count": 71,
   "metadata": {
    "ExecuteTime": {
     "end_time": "2016-07-20T03:33:27.262812",
     "start_time": "2016-07-20T03:33:27.125457"
    },
    "collapsed": false
   },
   "outputs": [],
   "source": [
    "from models.names import NameVariant\n",
    "\n",
    "# for x in range(100):\n",
    "#     NameVariant.batch_request(names[x * 20:(x + 1) * 20])\n",
    "\n",
    "matched_names = NameVariant.batch_request(names)\n",
    "matched_candidates = NameVariant.batch_request(candidates)"
   ]
  },
  {
   "cell_type": "code",
   "execution_count": 72,
   "metadata": {
    "ExecuteTime": {
     "end_time": "2016-07-20T03:33:27.993058",
     "start_time": "2016-07-20T03:33:27.973791"
    },
    "collapsed": false
   },
   "outputs": [
    {
     "name": "stdout",
     "output_type": "stream",
     "text": [
      "[0]\n",
      "None\n",
      "[2]\n"
     ]
    }
   ],
   "source": [
    "from matcher import Matcher\n",
    "\n",
    "m = Matcher(dict(enumerate(matched_names)))\n",
    "\n",
    "\n",
    "for x in matched_candidates:\n",
    "    print(m.match(x))\n"
   ]
  }
 ],
 "metadata": {
  "kernelspec": {
   "display_name": "Python 3",
   "language": "python",
   "name": "python3"
  },
  "language_info": {
   "codemirror_mode": {
    "name": "ipython",
    "version": 3
   },
   "file_extension": ".py",
   "mimetype": "text/x-python",
   "name": "python",
   "nbconvert_exporter": "python",
   "pygments_lexer": "ipython3",
   "version": "3.5.1"
  }
 },
 "nbformat": 4,
 "nbformat_minor": 0
}
