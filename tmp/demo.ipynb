{
 "cells": [
  {
   "cell_type": "code",
   "execution_count": 1,
   "metadata": {
    "ExecuteTime": {
     "end_time": "2016-07-25T02:37:45.996510",
     "start_time": "2016-07-25T02:37:45.970492"
    },
    "collapsed": false
   },
   "outputs": [],
   "source": [
    "%load_ext autoreload\n",
    "%autoreload 2\n",
    "import sys\n",
    "sys.path.append('../..')"
   ]
  },
  {
   "cell_type": "code",
   "execution_count": 2,
   "metadata": {
    "ExecuteTime": {
     "end_time": "2016-07-25T02:37:47.168800",
     "start_time": "2016-07-25T02:37:47.154865"
    },
    "collapsed": false
   },
   "outputs": [],
   "source": [
    "import sys\n",
    "import os\n",
    "sys.path.append(os.path.join(os.path.curdir, \"..\"))"
   ]
  },
  {
   "cell_type": "code",
   "execution_count": 3,
   "metadata": {
    "ExecuteTime": {
     "end_time": "2016-07-25T02:37:49.766796",
     "start_time": "2016-07-25T02:37:49.606251"
    },
    "collapsed": true
   },
   "outputs": [],
   "source": [
    "from settings import ELASTICSEARCH_CONNECTIONS\n",
    "from elasticsearch_dsl.connections import connections\n",
    "connections.configure(timeout=120, **ELASTICSEARCH_CONNECTIONS)"
   ]
  },
  {
   "cell_type": "code",
   "execution_count": 4,
   "metadata": {
    "ExecuteTime": {
     "end_time": "2016-07-25T02:37:50.917966",
     "start_time": "2016-07-25T02:37:50.573238"
    },
    "collapsed": false
   },
   "outputs": [],
   "source": [
    "from name_utils import parse_fullname\n",
    "\n",
    "with open(\"../test_names.txt\", \"r\") as fp:\n",
    "    names = list(fp)\n",
    "\n",
    "# names = [\n",
    "#     \"Блабласюк Дмитро Романович\",\n",
    "#     \"РОМАНЮК Ярослав Михайлович\",\n",
    "#     \"Валентин Петрович БАРБАРА\",\n",
    "# ]\n",
    "\n",
    "names = list(map(str.strip, names))\n",
    "names = list(map(parse_fullname, names))\n",
    "\n",
    "\n",
    "candidates = [\n",
    "    \"Дмитрий Романович Блабласюк\",\n",
    "    \"Сергій Насалик\",\n",
    "    \"BARBARA Valentyn Petrovych\",\n",
    "]\n",
    "\n",
    "candidates = list(map(str.strip, candidates))\n",
    "candidates = list(map(parse_fullname, candidates))"
   ]
  },
  {
   "cell_type": "code",
   "execution_count": 5,
   "metadata": {
    "ExecuteTime": {
     "end_time": "2016-07-22T02:48:46.765282",
     "start_time": "2016-07-22T02:48:39.720809"
    },
    "collapsed": false
   },
   "outputs": [],
   "source": [
    "from models.names import NameVariant\n",
    "\n",
    "matched_names = []\n",
    "for x in range(100):\n",
    "    matched_names += NameVariant.batch_request(names[x * 20:(x + 1) * 20])\n",
    "\n",
    "# matched_names = NameVariant.batch_request(names)\n",
    "matched_candidates = NameVariant.batch_request(candidates)"
   ]
  },
  {
   "cell_type": "code",
   "execution_count": 6,
   "metadata": {
    "ExecuteTime": {
     "end_time": "2016-07-22T02:48:57.095296",
     "start_time": "2016-07-22T02:48:56.829317"
    },
    "collapsed": false
   },
   "outputs": [],
   "source": [
    "from matcher import Matcher\n",
    "\n",
    "m = Matcher(dict(enumerate(matched_names)))"
   ]
  },
  {
   "cell_type": "code",
   "execution_count": 7,
   "metadata": {
    "ExecuteTime": {
     "end_time": "2016-07-22T02:48:59.429341",
     "start_time": "2016-07-22T02:48:59.412996"
    },
    "collapsed": false
   },
   "outputs": [
    {
     "name": "stdout",
     "output_type": "stream",
     "text": [
      "None\n",
      "None\n",
      "[1]\n"
     ]
    }
   ],
   "source": [
    "for x in matched_candidates:\n",
    "    print(m.match(x))"
   ]
  },
  {
   "cell_type": "code",
   "execution_count": 8,
   "metadata": {
    "ExecuteTime": {
     "end_time": "2016-07-22T02:49:01.182782",
     "start_time": "2016-07-22T02:49:01.148128"
    },
    "collapsed": false
   },
   "outputs": [
    {
     "data": {
      "text/plain": [
       "52526"
      ]
     },
     "execution_count": 8,
     "metadata": {},
     "output_type": "execute_result"
    }
   ],
   "source": [
    "len(m.seed)"
   ]
  },
  {
   "cell_type": "code",
   "execution_count": 5,
   "metadata": {
    "ExecuteTime": {
     "end_time": "2016-07-25T02:38:03.829956",
     "start_time": "2016-07-25T02:38:03.157493"
    },
    "collapsed": true
   },
   "outputs": [],
   "source": [
    "from hasher import batch_request"
   ]
  },
  {
   "cell_type": "code",
   "execution_count": 10,
   "metadata": {
    "ExecuteTime": {
     "end_time": "2016-07-22T02:50:11.469493",
     "start_time": "2016-07-22T02:49:07.911205"
    },
    "collapsed": false
   },
   "outputs": [
    {
     "name": "stdout",
     "output_type": "stream",
     "text": [
      "3561\n",
      "10 loops, best of 3: 136 ms per loop\n",
      "1 loop, best of 3: 268 ms per loop\n",
      "5 loops, best of 3: 516 ms per loop\n",
      "5 loops, best of 3: 2.99 s per loop\n"
     ]
    }
   ],
   "source": [
    "print(len(names))\n",
    "\n",
    "%timeit res = batch_request(names[:1000])\n",
    "%timeit res = batch_request(names[:2000])\n",
    "%timeit -n 5 res = batch_request(names)\n",
    "%timeit -n 5 res = batch_request(names + names + names + names + names)"
   ]
  },
  {
   "cell_type": "code",
   "execution_count": 6,
   "metadata": {
    "ExecuteTime": {
     "end_time": "2016-07-25T02:38:06.545704",
     "start_time": "2016-07-25T02:38:06.378569"
    },
    "collapsed": false
   },
   "outputs": [],
   "source": [
    "res = batch_request(names[:1000])"
   ]
  },
  {
   "cell_type": "code",
   "execution_count": 7,
   "metadata": {
    "ExecuteTime": {
     "end_time": "2016-07-25T02:38:13.794924",
     "start_time": "2016-07-25T02:38:13.758731"
    },
    "collapsed": false
   },
   "outputs": [
    {
     "data": {
      "text/plain": [
       "(({'label': 'l', 'lemma': 24467, 'term': 'Романюк'},\n",
       "  {'label': 'l', 'lemma': 160203, 'term': 'Романюк'}),\n",
       " ({'label': 'f', 'lemma': 6709, 'term': 'Ярослав'},\n",
       "  {'label': 'l', 'lemma': 27858, 'term': 'Ярослав'},\n",
       "  {'label': 'f', 'lemma': 6710, 'term': 'Ярослав'},\n",
       "  {'label': 'l', 'lemma': 27857, 'term': 'Ярослав'}),\n",
       " ({'label': 'l', 'lemma': 13292, 'term': 'Михайлович'},\n",
       "  {'label': 'f', 'lemma': 13297, 'term': 'Михайлович'},\n",
       "  {'label': 'l', 'lemma': 13290, 'term': 'Михайлович'},\n",
       "  {'label': 'l', 'lemma': 13296, 'term': 'Михайлович'},\n",
       "  {'label': 'f', 'lemma': 13300, 'term': 'Михайлович'},\n",
       "  {'label': 'p', 'lemma': 13302, 'term': 'Михайлович'},\n",
       "  {'label': 'f', 'lemma': 1358, 'term': 'Михайлович'},\n",
       "  {'label': 'p', 'lemma': 13295, 'term': 'Михайлович'},\n",
       "  {'label': 'p', 'lemma': 13289, 'term': 'Михайлович'},\n",
       "  {'label': 'p', 'lemma': 13303, 'term': 'Михайлович'},\n",
       "  {'label': 'p', 'lemma': 13298, 'term': 'Михайлович'},\n",
       "  {'label': 'p', 'lemma': 13293, 'term': 'Михайлович'},\n",
       "  {'label': 'p', 'lemma': 10456, 'term': 'Михайлович'},\n",
       "  {'label': 'f', 'lemma': 13301, 'term': 'Михайлович'},\n",
       "  {'label': 'l', 'lemma': 13294, 'term': 'Михайлович'},\n",
       "  {'label': 'f', 'lemma': 13288, 'term': 'Михайлович'},\n",
       "  {'label': 'f', 'lemma': 13291, 'term': 'Михайлович'},\n",
       "  {'label': 'f', 'lemma': 1357, 'term': 'Михайлович'}))"
      ]
     },
     "execution_count": 7,
     "metadata": {},
     "output_type": "execute_result"
    }
   ],
   "source": [
    "res[0]"
   ]
  },
  {
   "cell_type": "code",
   "execution_count": 23,
   "metadata": {
    "ExecuteTime": {
     "end_time": "2016-07-25T02:45:37.429941",
     "start_time": "2016-07-25T02:45:37.405533"
    },
    "collapsed": false
   },
   "outputs": [
    {
     "name": "stdout",
     "output_type": "stream",
     "text": [
      "defaultdict(<class 'list'>, {'f': [(1, {'lemma': 6709, 'label': 'f', 'term': 'Ярослав'}), (1, {'lemma': 6710, 'label': 'f', 'term': 'Ярослав'}), (2, {'lemma': 13297, 'label': 'f', 'term': 'Михайлович'}), (2, {'lemma': 13300, 'label': 'f', 'term': 'Михайлович'}), (2, {'lemma': 1358, 'label': 'f', 'term': 'Михайлович'}), (2, {'lemma': 13301, 'label': 'f', 'term': 'Михайлович'}), (2, {'lemma': 13288, 'label': 'f', 'term': 'Михайлович'}), (2, {'lemma': 13291, 'label': 'f', 'term': 'Михайлович'}), (2, {'lemma': 1357, 'label': 'f', 'term': 'Михайлович'})], 'l': [(0, {'lemma': 24467, 'label': 'l', 'term': 'Романюк'}), (0, {'lemma': 160203, 'label': 'l', 'term': 'Романюк'}), (1, {'lemma': 27858, 'label': 'l', 'term': 'Ярослав'}), (1, {'lemma': 27857, 'label': 'l', 'term': 'Ярослав'}), (2, {'lemma': 13292, 'label': 'l', 'term': 'Михайлович'}), (2, {'lemma': 13290, 'label': 'l', 'term': 'Михайлович'}), (2, {'lemma': 13296, 'label': 'l', 'term': 'Михайлович'}), (2, {'lemma': 13294, 'label': 'l', 'term': 'Михайлович'})], 'p': [(2, {'lemma': 13302, 'label': 'p', 'term': 'Михайлович'}), (2, {'lemma': 13295, 'label': 'p', 'term': 'Михайлович'}), (2, {'lemma': 13289, 'label': 'p', 'term': 'Михайлович'}), (2, {'lemma': 13303, 'label': 'p', 'term': 'Михайлович'}), (2, {'lemma': 13298, 'label': 'p', 'term': 'Михайлович'}), (2, {'lemma': 13293, 'label': 'p', 'term': 'Михайлович'}), (2, {'lemma': 10456, 'label': 'p', 'term': 'Михайлович'})]})\n",
      "{'lemma': 6709, 'label': 'f', 'term': 'Ярослав'}\n",
      "{'lemma': 6710, 'label': 'f', 'term': 'Ярослав'}\n",
      "{'lemma': 13297, 'label': 'f', 'term': 'Михайлович'}\n",
      "{'lemma': 13300, 'label': 'f', 'term': 'Михайлович'}\n",
      "{'lemma': 1358, 'label': 'f', 'term': 'Михайлович'}\n",
      "{'lemma': 13301, 'label': 'f', 'term': 'Михайлович'}\n",
      "{'lemma': 13288, 'label': 'f', 'term': 'Михайлович'}\n",
      "{'lemma': 13291, 'label': 'f', 'term': 'Михайлович'}\n",
      "{'lemma': 1357, 'label': 'f', 'term': 'Михайлович'}\n",
      "{'lemma': 24467, 'label': 'l', 'term': 'Романюк'}\n",
      "{'lemma': 160203, 'label': 'l', 'term': 'Романюк'}\n",
      "{'lemma': 27858, 'label': 'l', 'term': 'Ярослав'}\n",
      "{'lemma': 27857, 'label': 'l', 'term': 'Ярослав'}\n",
      "{'lemma': 13292, 'label': 'l', 'term': 'Михайлович'}\n",
      "{'lemma': 13290, 'label': 'l', 'term': 'Михайлович'}\n",
      "{'lemma': 13296, 'label': 'l', 'term': 'Михайлович'}\n",
      "{'lemma': 13294, 'label': 'l', 'term': 'Михайлович'}\n",
      "{'lemma': 13302, 'label': 'p', 'term': 'Михайлович'}\n",
      "{'lemma': 13295, 'label': 'p', 'term': 'Михайлович'}\n",
      "{'lemma': 13289, 'label': 'p', 'term': 'Михайлович'}\n",
      "{'lemma': 13303, 'label': 'p', 'term': 'Михайлович'}\n",
      "{'lemma': 13298, 'label': 'p', 'term': 'Михайлович'}\n",
      "{'lemma': 13293, 'label': 'p', 'term': 'Михайлович'}\n",
      "{'lemma': 10456, 'label': 'p', 'term': 'Михайлович'}\n",
      "({'lemma': 6709, 'label': 'f', 'term': 'Ярослав'}, {'lemma': 24467, 'label': 'l', 'term': 'Романюк'})\n",
      "({'lemma': 6709, 'label': 'f', 'term': 'Ярослав'}, {'lemma': 160203, 'label': 'l', 'term': 'Романюк'})\n",
      "({'lemma': 6709, 'label': 'f', 'term': 'Ярослав'}, {'lemma': 13292, 'label': 'l', 'term': 'Михайлович'})\n",
      "({'lemma': 6709, 'label': 'f', 'term': 'Ярослав'}, {'lemma': 13290, 'label': 'l', 'term': 'Михайлович'})\n",
      "({'lemma': 6709, 'label': 'f', 'term': 'Ярослав'}, {'lemma': 13296, 'label': 'l', 'term': 'Михайлович'})\n",
      "({'lemma': 6709, 'label': 'f', 'term': 'Ярослав'}, {'lemma': 13294, 'label': 'l', 'term': 'Михайлович'})\n",
      "({'lemma': 6710, 'label': 'f', 'term': 'Ярослав'}, {'lemma': 24467, 'label': 'l', 'term': 'Романюк'})\n",
      "({'lemma': 6710, 'label': 'f', 'term': 'Ярослав'}, {'lemma': 160203, 'label': 'l', 'term': 'Романюк'})\n",
      "({'lemma': 6710, 'label': 'f', 'term': 'Ярослав'}, {'lemma': 13292, 'label': 'l', 'term': 'Михайлович'})\n",
      "({'lemma': 6710, 'label': 'f', 'term': 'Ярослав'}, {'lemma': 13290, 'label': 'l', 'term': 'Михайлович'})\n",
      "({'lemma': 6710, 'label': 'f', 'term': 'Ярослав'}, {'lemma': 13296, 'label': 'l', 'term': 'Михайлович'})\n",
      "({'lemma': 6710, 'label': 'f', 'term': 'Ярослав'}, {'lemma': 13294, 'label': 'l', 'term': 'Михайлович'})\n",
      "({'lemma': 13297, 'label': 'f', 'term': 'Михайлович'}, {'lemma': 24467, 'label': 'l', 'term': 'Романюк'})\n",
      "({'lemma': 13297, 'label': 'f', 'term': 'Михайлович'}, {'lemma': 160203, 'label': 'l', 'term': 'Романюк'})\n",
      "({'lemma': 13297, 'label': 'f', 'term': 'Михайлович'}, {'lemma': 27858, 'label': 'l', 'term': 'Ярослав'})\n",
      "({'lemma': 13297, 'label': 'f', 'term': 'Михайлович'}, {'lemma': 27857, 'label': 'l', 'term': 'Ярослав'})\n",
      "({'lemma': 13300, 'label': 'f', 'term': 'Михайлович'}, {'lemma': 24467, 'label': 'l', 'term': 'Романюк'})\n",
      "({'lemma': 13300, 'label': 'f', 'term': 'Михайлович'}, {'lemma': 160203, 'label': 'l', 'term': 'Романюк'})\n",
      "({'lemma': 13300, 'label': 'f', 'term': 'Михайлович'}, {'lemma': 27858, 'label': 'l', 'term': 'Ярослав'})\n",
      "({'lemma': 13300, 'label': 'f', 'term': 'Михайлович'}, {'lemma': 27857, 'label': 'l', 'term': 'Ярослав'})\n",
      "({'lemma': 1358, 'label': 'f', 'term': 'Михайлович'}, {'lemma': 24467, 'label': 'l', 'term': 'Романюк'})\n",
      "({'lemma': 1358, 'label': 'f', 'term': 'Михайлович'}, {'lemma': 160203, 'label': 'l', 'term': 'Романюк'})\n",
      "({'lemma': 1358, 'label': 'f', 'term': 'Михайлович'}, {'lemma': 27858, 'label': 'l', 'term': 'Ярослав'})\n",
      "({'lemma': 1358, 'label': 'f', 'term': 'Михайлович'}, {'lemma': 27857, 'label': 'l', 'term': 'Ярослав'})\n",
      "({'lemma': 13301, 'label': 'f', 'term': 'Михайлович'}, {'lemma': 24467, 'label': 'l', 'term': 'Романюк'})\n",
      "({'lemma': 13301, 'label': 'f', 'term': 'Михайлович'}, {'lemma': 160203, 'label': 'l', 'term': 'Романюк'})\n",
      "({'lemma': 13301, 'label': 'f', 'term': 'Михайлович'}, {'lemma': 27858, 'label': 'l', 'term': 'Ярослав'})\n",
      "({'lemma': 13301, 'label': 'f', 'term': 'Михайлович'}, {'lemma': 27857, 'label': 'l', 'term': 'Ярослав'})\n",
      "({'lemma': 13288, 'label': 'f', 'term': 'Михайлович'}, {'lemma': 24467, 'label': 'l', 'term': 'Романюк'})\n",
      "({'lemma': 13288, 'label': 'f', 'term': 'Михайлович'}, {'lemma': 160203, 'label': 'l', 'term': 'Романюк'})\n",
      "({'lemma': 13288, 'label': 'f', 'term': 'Михайлович'}, {'lemma': 27858, 'label': 'l', 'term': 'Ярослав'})\n",
      "({'lemma': 13288, 'label': 'f', 'term': 'Михайлович'}, {'lemma': 27857, 'label': 'l', 'term': 'Ярослав'})\n",
      "({'lemma': 13291, 'label': 'f', 'term': 'Михайлович'}, {'lemma': 24467, 'label': 'l', 'term': 'Романюк'})\n",
      "({'lemma': 13291, 'label': 'f', 'term': 'Михайлович'}, {'lemma': 160203, 'label': 'l', 'term': 'Романюк'})\n",
      "({'lemma': 13291, 'label': 'f', 'term': 'Михайлович'}, {'lemma': 27858, 'label': 'l', 'term': 'Ярослав'})\n",
      "({'lemma': 13291, 'label': 'f', 'term': 'Михайлович'}, {'lemma': 27857, 'label': 'l', 'term': 'Ярослав'})\n",
      "({'lemma': 1357, 'label': 'f', 'term': 'Михайлович'}, {'lemma': 24467, 'label': 'l', 'term': 'Романюк'})\n",
      "({'lemma': 1357, 'label': 'f', 'term': 'Михайлович'}, {'lemma': 160203, 'label': 'l', 'term': 'Романюк'})\n",
      "({'lemma': 1357, 'label': 'f', 'term': 'Михайлович'}, {'lemma': 27858, 'label': 'l', 'term': 'Ярослав'})\n",
      "({'lemma': 1357, 'label': 'f', 'term': 'Михайлович'}, {'lemma': 27857, 'label': 'l', 'term': 'Ярослав'})\n"
     ]
    }
   ],
   "source": [
    "from matcher import Matcher\n",
    "\n",
    "# m = Matcher(dict(enumerate(res[:1])))\n",
    "\n",
    "for x in m.generate(res[0]):\n",
    "    print(x)"
   ]
  },
  {
   "cell_type": "code",
   "execution_count": 17,
   "metadata": {
    "ExecuteTime": {
     "end_time": "2016-07-22T02:50:32.600611",
     "start_time": "2016-07-22T02:50:32.363855"
    },
    "collapsed": false
   },
   "outputs": [
    {
     "name": "stdout",
     "output_type": "stream",
     "text": [
      "None\n",
      "None\n",
      "[0]\n",
      "[1]\n"
     ]
    }
   ],
   "source": [
    "m = Matcher(dict(enumerate(res)))\n",
    "\n",
    "candidates = [\n",
    "    \"Дмитрий Романович Блабласюк\",\n",
    "    \"Сергій Насалик\",\n",
    "    \"РОМАНЮКу Я М\",\n",
    "    \"BARBARA V. P.\",\n",
    "]\n",
    "\n",
    "candidates = list(map(str.strip, candidates))\n",
    "candidates = list(map(parse_fullname, candidates))\n",
    "\n",
    "matched_candidates = batch_request(candidates)\n",
    "\n",
    "for x in matched_candidates:\n",
    "    print(m.match(x))"
   ]
  },
  {
   "cell_type": "code",
   "execution_count": null,
   "metadata": {
    "collapsed": true
   },
   "outputs": [],
   "source": []
  }
 ],
 "metadata": {
  "kernelspec": {
   "display_name": "Python 3",
   "language": "python",
   "name": "python3"
  },
  "language_info": {
   "codemirror_mode": {
    "name": "ipython",
    "version": 3
   },
   "file_extension": ".py",
   "mimetype": "text/x-python",
   "name": "python",
   "nbconvert_exporter": "python",
   "pygments_lexer": "ipython3",
   "version": "3.5.1"
  }
 },
 "nbformat": 4,
 "nbformat_minor": 0
}
